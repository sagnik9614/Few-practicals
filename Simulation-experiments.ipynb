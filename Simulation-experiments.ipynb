{
 "cells": [
  {
   "attachments": {},
   "cell_type": "markdown",
   "metadata": {},
   "source": [
    "# Simulation exercises\n",
    "\n",
    "This notebook contains some very basic simulation exercises to show how simulation helps us understand and visualise how the theories of probablity works practically. We will consider a few very basic probability problems that can be mathematically solved fairly easily, and we will use simulation techniques to solve them as well."
   ]
  },
  {
   "attachments": {},
   "cell_type": "markdown",
   "metadata": {},
   "source": [
    "## Problem 1\n",
    "### The birthday paradox\n",
    "\n",
    "Though this problem is known as Birthday 'Paradox' it's not really so. It is a famous statistical example, which asks the question, if there are 'n' number of people in a room then what is the probability that at least two of them has the same birthday.\n",
    "\n",
    "This problem, theoritically can be thought of as this - \n",
    "Assume we are only dealing with non-leap years, so that there are 365 days in total. So, the total possible combination of birthdays could be $365^n$. But going through this approach would require us to consider the principle of inclusion and exclusion and creating a huge equation to solve. Rather we could go by the complementary method. \n",
    "\n",
    "The same problem could be though of as to calculate the complement probability of the event that none of the 'n' people have same birthdate. (Obviously by to be valid $n<=365$ by the pigeonhole principle)\n",
    "\n",
    "So we consider the total possible cases where none of the n people has same birthday as - \n",
    "$(365)*(365-1)*(365-2)...*(365-n+1)$ (the first person has a choice of 365 days, once his birthday is taken the next person has a choice of 364 days, so on and so forth)\n",
    "\n",
    "Thus making this probability as $P(A)=\\prod_{i=1}^{n} (\\frac{365-i+1}{365})$, $n\\le365$ . \n",
    "Now if we just compliment it we will get our desired probability, i.e. $1 - P(A^c)$\n",
    "\n"
   ]
  },
  {
   "cell_type": "code",
   "execution_count": 2,
   "metadata": {},
   "outputs": [],
   "source": [
    "import numpy as np"
   ]
  },
  {
   "cell_type": "code",
   "execution_count": 3,
   "metadata": {},
   "outputs": [
    {
     "name": "stdout",
     "output_type": "stream",
     "text": [
      "Invalid input: n greater than 365\n",
      "0.598\n"
     ]
    }
   ],
   "source": [
    "# let's first create a function to calculate the exact probability\n",
    "\n",
    "# by default let n=2 unless we specify\n",
    "def get_birthday_prob(n=2):\n",
    "    # first check if n<=365\n",
    "    if n>365:\n",
    "        return str('Invalid input: n greater than 365')\n",
    "    else:\n",
    "        values = np.array([(365-i)/365 for i in range(n+1)]) # we have to use n+1 since how python interprets ranges\n",
    "        return np.round(1 - np.prod(values),3)\n",
    "    \n",
    "# Let's test out by plugging two seperate values\n",
    "\n",
    "print(get_birthday_prob(522)) # should give error\n",
    "print(get_birthday_prob(25))\n",
    "        "
   ]
  },
  {
   "attachments": {},
   "cell_type": "markdown",
   "metadata": {},
   "source": [
    "Now let's strategize how we can simulate this probability.\n",
    "*   There are 365 days\n",
    "*   There are n people\n",
    "*   Each person can have one birthday from 365 days\n",
    "So if we generate a sample data we will get an array of n values where each value lies between 1 to 365.\n",
    "Let us also consider 'm' such samples, so we ultimately if we collate them together we will have a $m$ x $n$ matrix."
   ]
  },
  {
   "cell_type": "code",
   "execution_count": 4,
   "metadata": {},
   "outputs": [
    {
     "data": {
      "text/plain": [
       "array([[310,  37, 295,  72, 250,  27, 177, 136, 104, 167,  96,  51, 183,\n",
       "        143, 326, 131,  96, 337, 331,  96, 325, 301,  79, 265, 227],\n",
       "       [358, 148, 172,  98, 322,  62,  61, 315, 289, 324, 250, 296,  76,\n",
       "        259, 298, 206, 305, 246, 131, 238, 119,  51, 175,  48, 256],\n",
       "       [125, 187, 219, 303, 271, 330, 163, 220, 308, 214, 282, 362, 347,\n",
       "        100,  86, 315,  66, 191, 217,  35, 259, 174, 184, 363, 359],\n",
       "       [348, 191, 123,  37,   6, 212, 291,  38, 263, 332, 291, 347,  71,\n",
       "        329,  87, 336, 250,  46, 274, 151, 280, 286, 227,  52, 343],\n",
       "       [ 46, 247, 316, 291,   3,  63, 235, 175,  74, 244,  22,  88, 362,\n",
       "        127,  47,  90,  54,  24, 129, 178,   4, 271, 300, 305, 316],\n",
       "       [ 40, 306,   1, 353, 255, 130, 174, 271, 154, 149,  31,   1, 102,\n",
       "        166, 162, 200, 211, 350,  50, 177, 175, 237, 310,  29, 166],\n",
       "       [ 16, 255, 129, 342,  93, 139, 155, 203,  38, 323,  85,  57, 265,\n",
       "         39, 202, 110, 324, 324, 173, 292, 204, 132, 107, 105,  92],\n",
       "       [ 92, 260,  48, 306, 335, 361, 313, 255, 147, 168, 126, 289, 275,\n",
       "        236, 117, 103, 314, 251,  12, 356,  65,   5, 169, 243,  89],\n",
       "       [126, 305, 346, 118, 270, 265,  21, 269,  21, 128,  83,  43, 314,\n",
       "         55,  43,  29, 244,  83, 242, 162, 277, 271,  80,  58, 156],\n",
       "       [ 83, 186,  38, 212, 117,  61, 294, 206, 101, 290,  37, 146,  77,\n",
       "        312, 139, 256, 301,  19, 226, 219, 269, 268, 254,  62,  39]])"
      ]
     },
     "execution_count": 4,
     "metadata": {},
     "output_type": "execute_result"
    }
   ],
   "source": [
    "# for demonstration let's say n=24 and m=10\n",
    "n=25\n",
    "m=10\n",
    "mat = np.random.randint(1,365,(m,n))\n",
    "mat # let's look at mat"
   ]
  },
  {
   "cell_type": "code",
   "execution_count": 5,
   "metadata": {},
   "outputs": [
    {
     "data": {
      "text/plain": [
       "[1, 0, 0, 1, 1, 1, 1, 0, 1, 0]"
      ]
     },
     "execution_count": 5,
     "metadata": {},
     "output_type": "execute_result"
    }
   ],
   "source": [
    "# let's count the counts of unique value in each row and return flag 1 if there is duplicates present\n",
    "flags = [1 if any(p>1 for p in np.unique(mat[i], return_counts=True)[1])  else 0 for i in range(mat.shape[0])]\n",
    "flags"
   ]
  },
  {
   "cell_type": "code",
   "execution_count": 6,
   "metadata": {},
   "outputs": [
    {
     "data": {
      "text/plain": [
       "0.6"
      ]
     },
     "execution_count": 6,
     "metadata": {},
     "output_type": "execute_result"
    }
   ],
   "source": [
    "# calculate percentage of samples where multiple same date birthdates are present\n",
    "final_percentage = np.sum(flags)/len(flags)\n",
    "final_percentage"
   ]
  },
  {
   "attachments": {},
   "cell_type": "markdown",
   "metadata": {},
   "source": [
    "As we can see the calculated value is much higher than the theoritically calculated value. This is due to the low sample size we have taken.\n",
    "Let's devise a function now to simulate the value based on given parameters."
   ]
  },
  {
   "cell_type": "code",
   "execution_count": 7,
   "metadata": {},
   "outputs": [
    {
     "data": {
      "text/plain": [
       "0.4"
      ]
     },
     "execution_count": 7,
     "metadata": {},
     "output_type": "execute_result"
    }
   ],
   "source": [
    "def simulate_birthday_prob(n=2,m=1):\n",
    "    # first check if n>365\n",
    "    if n>365:\n",
    "        return str('Invalid input: n greater than 365')\n",
    "    else:\n",
    "        mat = np.random.randint(1,365,(m,n))\n",
    "        # let's count the counts of unique value in each row and return flag 1 if there is duplicates present\n",
    "        flags = [1 if any(p>1 for p in np.unique(mat[i], return_counts=True)[1])  else 0 for i in range(mat.shape[0])]\n",
    "        return np.sum(flags)/len(flags)\n",
    "\n",
    "simulate_birthday_prob(25,10)"
   ]
  },
  {
   "attachments": {},
   "cell_type": "markdown",
   "metadata": {},
   "source": [
    "Now let's check out how the sample size affects the value"
   ]
  },
  {
   "cell_type": "code",
   "execution_count": 22,
   "metadata": {},
   "outputs": [],
   "source": [
    "simulated = [simulate_birthday_prob(25,m) for m in np.arange(10,10000,50)]"
   ]
  },
  {
   "cell_type": "code",
   "execution_count": 53,
   "metadata": {},
   "outputs": [
    {
     "data": {
      "text/plain": [
       "<matplotlib.lines.Line2D at 0x2169c228550>"
      ]
     },
     "execution_count": 53,
     "metadata": {},
     "output_type": "execute_result"
    },
    {
     "data": {
      "image/png": "[encoded data removed]",
      "text/plain": [
       "<Figure size 640x480 with 1 Axes>"
      ]
     },
     "metadata": {},
     "output_type": "display_data"
    }
   ],
   "source": [
    "# let's plot out the values and see how they behave\n",
    "import seaborn as sns\n",
    "import matplotlib.pyplot as plt\n",
    "\n",
    "x_ = np.arange(10,10000,50)\n",
    "plot = sns.lineplot(x=x_,y=np.array(simulated))\n",
    "plot.set_ylim(bottom=0.54)\n",
    "plt.axhline(y = 0.59, linestyle='--')"
   ]
  },
  {
   "attachments": {},
   "cell_type": "markdown",
   "metadata": {},
   "source": [
    "The chart shows that as the sample size increase the values converge towards something around 0.57. Which is not very accurate. One of the reasons for this could be less sample size or some error in the resampling strategy."
   ]
  },
  {
   "attachments": {},
   "cell_type": "markdown",
   "metadata": {},
   "source": [
    "## Problem 2\n",
    "### Approximating the value of $\\pi$\n",
    "\n",
    "The target is to estimate the value of $\\pi$ through simulation.\n",
    "\n",
    "The strategy for this is as follows:\n",
    "We know that the expression for the area of a circle is given as $\\pi*r^2$, where r is the raidus.\n",
    "Now consider a square paper with side length 2, so that a circle with radius one can be fitted exactly in the square. Consider the area proportion of the circle to the square, i.e. $\\frac{\\pi*1^2}{2^2}$ = $\\frac{\\pi}{4}$\n",
    "\n",
    "Now for our simulation strategy, we can sample a collection of points $(x_i,y_i)$, $i=1(1)n$ where each $0\\le x_i,y_i \\le 1$, i.e. all in the first quadrant.\n",
    "Following that if we get the proportion of points for which the square of their sum is less than equal to 1, we can equate that with the value $\\frac{\\pi}{4}$ since that gives us a geometric probability of choosing a point within the circle, which is also an approximation of the proportion of area between the circle and the square.\n"
   ]
  },
  {
   "cell_type": "code",
   "execution_count": 24,
   "metadata": {},
   "outputs": [],
   "source": [
    "n=100 #sample size\n",
    "samples = np.random.uniform(-2,2,(n,2)) # creating a set of 100 coordinate samples"
   ]
  },
  {
   "cell_type": "code",
   "execution_count": 26,
   "metadata": {},
   "outputs": [],
   "source": [
    "import pandas as pd\n",
    "\n",
    "samples_df = pd.DataFrame(samples, columns=['x','y']) # creating a dataframe out of the samples"
   ]
  },
  {
   "cell_type": "code",
   "execution_count": 28,
   "metadata": {},
   "outputs": [
    {
     "data": {
      "text/html": [
       "<div>\n",
       "<style scoped>\n",
       "    .dataframe tbody tr th:only-of-type {\n",
       "        vertical-align: middle;\n",
       "    }\n",
       "\n",
       "    .dataframe tbody tr th {\n",
       "        vertical-align: top;\n",
       "    }\n",
       "\n",
       "    .dataframe thead th {\n",
       "        text-align: right;\n",
       "    }\n",
       "</style>\n",
       "<table border=\"1\" class=\"dataframe\">\n",
       "  <thead>\n",
       "    <tr style=\"text-align: right;\">\n",
       "      <th></th>\n",
       "      <th>x</th>\n",
       "      <th>y</th>\n",
       "    </tr>\n",
       "  </thead>\n",
       "  <tbody>\n",
       "    <tr>\n",
       "      <th>0</th>\n",
       "      <td>-0.074737</td>\n",
       "      <td>-1.534134</td>\n",
       "    </tr>\n",
       "    <tr>\n",
       "      <th>1</th>\n",
       "      <td>1.406717</td>\n",
       "      <td>-1.720619</td>\n",
       "    </tr>\n",
       "    <tr>\n",
       "      <th>2</th>\n",
       "      <td>-0.708738</td>\n",
       "      <td>-1.117959</td>\n",
       "    </tr>\n",
       "    <tr>\n",
       "      <th>3</th>\n",
       "      <td>-0.092314</td>\n",
       "      <td>-0.906098</td>\n",
       "    </tr>\n",
       "    <tr>\n",
       "      <th>4</th>\n",
       "      <td>-1.941896</td>\n",
       "      <td>1.406300</td>\n",
       "    </tr>\n",
       "  </tbody>\n",
       "</table>\n",
       "</div>"
      ],
      "text/plain": [
       "          x         y\n",
       "0 -0.074737 -1.534134\n",
       "1  1.406717 -1.720619\n",
       "2 -0.708738 -1.117959\n",
       "3 -0.092314 -0.906098\n",
       "4 -1.941896  1.406300"
      ]
     },
     "execution_count": 28,
     "metadata": {},
     "output_type": "execute_result"
    }
   ],
   "source": [
    "samples_df.head()"
   ]
  },
  {
   "cell_type": "code",
   "execution_count": 29,
   "metadata": {},
   "outputs": [],
   "source": [
    "samples_df['squared_sum'] = np.square(samples_df['x'])+np.square(samples_df['y']) # calculating squared sum\n",
    "samples_df['flag'] = samples_df['squared_sum'].apply(lambda x: 1 if x<=1 else 0) # applying a flag for coordinates that fall inside the circle"
   ]
  },
  {
   "cell_type": "code",
   "execution_count": 30,
   "metadata": {},
   "outputs": [
    {
     "data": {
      "text/html": [
       "<div>\n",
       "<style scoped>\n",
       "    .dataframe tbody tr th:only-of-type {\n",
       "        vertical-align: middle;\n",
       "    }\n",
       "\n",
       "    .dataframe tbody tr th {\n",
       "        vertical-align: top;\n",
       "    }\n",
       "\n",
       "    .dataframe thead th {\n",
       "        text-align: right;\n",
       "    }\n",
       "</style>\n",
       "<table border=\"1\" class=\"dataframe\">\n",
       "  <thead>\n",
       "    <tr style=\"text-align: right;\">\n",
       "      <th></th>\n",
       "      <th>x</th>\n",
       "      <th>y</th>\n",
       "      <th>squared_sum</th>\n",
       "      <th>flag</th>\n",
       "    </tr>\n",
       "  </thead>\n",
       "  <tbody>\n",
       "    <tr>\n",
       "      <th>0</th>\n",
       "      <td>-0.074737</td>\n",
       "      <td>-1.534134</td>\n",
       "      <td>2.359153</td>\n",
       "      <td>0</td>\n",
       "    </tr>\n",
       "    <tr>\n",
       "      <th>1</th>\n",
       "      <td>1.406717</td>\n",
       "      <td>-1.720619</td>\n",
       "      <td>4.939382</td>\n",
       "      <td>0</td>\n",
       "    </tr>\n",
       "    <tr>\n",
       "      <th>2</th>\n",
       "      <td>-0.708738</td>\n",
       "      <td>-1.117959</td>\n",
       "      <td>1.752142</td>\n",
       "      <td>0</td>\n",
       "    </tr>\n",
       "    <tr>\n",
       "      <th>3</th>\n",
       "      <td>-0.092314</td>\n",
       "      <td>-0.906098</td>\n",
       "      <td>0.829535</td>\n",
       "      <td>1</td>\n",
       "    </tr>\n",
       "    <tr>\n",
       "      <th>4</th>\n",
       "      <td>-1.941896</td>\n",
       "      <td>1.406300</td>\n",
       "      <td>5.748638</td>\n",
       "      <td>0</td>\n",
       "    </tr>\n",
       "  </tbody>\n",
       "</table>\n",
       "</div>"
      ],
      "text/plain": [
       "          x         y  squared_sum  flag\n",
       "0 -0.074737 -1.534134     2.359153     0\n",
       "1  1.406717 -1.720619     4.939382     0\n",
       "2 -0.708738 -1.117959     1.752142     0\n",
       "3 -0.092314 -0.906098     0.829535     1\n",
       "4 -1.941896  1.406300     5.748638     0"
      ]
     },
     "execution_count": 30,
     "metadata": {},
     "output_type": "execute_result"
    }
   ],
   "source": [
    "samples_df.head()"
   ]
  },
  {
   "cell_type": "code",
   "execution_count": 33,
   "metadata": {},
   "outputs": [
    {
     "data": {
      "text/plain": [
       "0.17"
      ]
     },
     "execution_count": 33,
     "metadata": {},
     "output_type": "execute_result"
    }
   ],
   "source": [
    "# calculating final percentage\n",
    "samples_df.flag.value_counts()[1]/samples_df.flag.value_counts().sum() "
   ]
  },
  {
   "cell_type": "code",
   "execution_count": 44,
   "metadata": {},
   "outputs": [
    {
     "name": "stdout",
     "output_type": "stream",
     "text": [
      "The proportion of points which fall inside the circle is:  0.78646\n",
      "Then estimate of pi obtained from this proportion is:  3.14584\n"
     ]
    }
   ],
   "source": [
    "# Let's perform the exercise again with higher sample size\n",
    "n=100000 #sample size\n",
    "samples = np.random.uniform(0,1,(n,2)) # creating a set of 100 coordinate samples\n",
    "samples_df = pd.DataFrame(samples, columns=['x','y']) # creating a dataframe out of the samples\n",
    "samples_df['squared_sum'] = np.square(samples_df['x'])+np.square(samples_df['y']) # calculating squared sum\n",
    "samples_df['flag'] = samples_df['squared_sum'].apply(lambda x: 1 if x<=1 else 0) # applying a flag for coordinates that fall inside the circle\n",
    "# calculating final percentage\n",
    "final_prop = samples_df.flag.value_counts()[1]/n\n",
    "print(\"The proportion of points which fall inside the circle is: \",final_prop)\n",
    "print(\"Then estimate of pi obtained from this proportion is: \", final_prop*4)"
   ]
  },
  {
   "attachments": {},
   "cell_type": "markdown",
   "metadata": {},
   "source": [
    "Similar to the previous exercise we can also simulate the value for different sample size and see how the value converges with increasing sample size"
   ]
  },
  {
   "cell_type": "code",
   "execution_count": 45,
   "metadata": {},
   "outputs": [],
   "source": [
    "simulation_set = np.arange(100,100000,100)\n",
    "pi_estimates = []\n",
    "for n in simulation_set:\n",
    "    samples = np.random.uniform(0,1,(n,2)) # creating a set of 100 coordinate samples\n",
    "    samples_df = pd.DataFrame(samples, columns=['x','y']) # creating a dataframe out of the samples\n",
    "    samples_df['squared_sum'] = np.square(samples_df['x'])+np.square(samples_df['y']) # calculating squared sum\n",
    "    samples_df['flag'] = samples_df['squared_sum'].apply(lambda x: 1 if x<=1 else 0) # applying a flag for coordinates that fall inside the circle\n",
    "    # calculating final percentage\n",
    "    final_prop = samples_df.flag.value_counts()[1]/n\n",
    "    pi_estimates.append(final_prop*4)\n",
    "    # print(\"The proportion of points which fall inside the circle is: \",final_prop)\n",
    "    # print(\"Then estimate of pi obtained from this proportion is: \", final_prop*4)\n"
   ]
  },
  {
   "cell_type": "code",
   "execution_count": 51,
   "metadata": {},
   "outputs": [
    {
     "data": {
      "text/plain": [
       "<matplotlib.lines.Line2D at 0x2169c197210>"
      ]
     },
     "execution_count": 51,
     "metadata": {},
     "output_type": "execute_result"
    },
    {
     "data": {
      "image/png": "[encoded data removed]",
      "text/plain": [
       "<Figure size 640x480 with 1 Axes>"
      ]
     },
     "metadata": {},
     "output_type": "display_data"
    }
   ],
   "source": [
    "import matplotlib.pyplot as plt\n",
    "plot = sns.lineplot(x=simulation_set,y=np.array(pi_estimates))\n",
    "plt.axhline(y=3.141,linestyle='--')"
   ]
  },
  {
   "cell_type": "code",
   "execution_count": null,
   "metadata": {},
   "outputs": [],
   "source": []
  }
 ],
 "metadata": {
  "kernelspec": {
   "display_name": "Python 3",
   "language": "python",
   "name": "python3"
  },
  "language_info": {
   "codemirror_mode": {
    "name": "ipython",
    "version": 3
   },
   "file_extension": ".py",
   "mimetype": "text/x-python",
   "name": "python",
   "nbconvert_exporter": "python",
   "pygments_lexer": "ipython3",
   "version": "3.11.1"
  },
  "orig_nbformat": 4
 },
 "nbformat": 4,
 "nbformat_minor": 2
}
